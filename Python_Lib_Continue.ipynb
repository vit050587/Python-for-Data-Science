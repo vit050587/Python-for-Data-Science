{
  "nbformat": 4,
  "nbformat_minor": 0,
  "metadata": {
    "colab": {
      "name": "Python_Lib_Continue.ipynb",
      "provenance": [],
      "toc_visible": true,
      "authorship_tag": "ABX9TyPQt+1OC11pbnr7QMh83E/e",
      "include_colab_link": true
    },
    "kernelspec": {
      "name": "python3",
      "display_name": "Python 3"
    },
    "language_info": {
      "name": "python"
    }
  },
  "cells": [
    {
      "cell_type": "markdown",
      "metadata": {
        "id": "view-in-github",
        "colab_type": "text"
      },
      "source": [
        "<a href=\"https://colab.research.google.com/github/vit050587/Python-for-Data-Science/blob/master/Python_Lib_Continue.ipynb\" target=\"_parent\"><img src=\"https://colab.research.google.com/assets/colab-badge.svg\" alt=\"Open In Colab\"/></a>"
      ]
    },
    {
      "cell_type": "markdown",
      "source": [
        "# Урок 1"
      ],
      "metadata": {
        "id": "dlXSxtWeygVi"
      }
    },
    {
      "cell_type": "markdown",
      "source": [
        "## Введение в задачу классификации. Постановка задачи и подготовка данных."
      ],
      "metadata": {
        "id": "aNZ9HNMMyxZR"
      }
    },
    {
      "cell_type": "markdown",
      "source": [
        "# Новый раздел"
      ],
      "metadata": {
        "id": "7QX8xFyq_eg1"
      }
    },
    {
      "cell_type": "markdown",
      "source": [
        "### Задание 1"
      ],
      "metadata": {
        "id": "3Owl4p-Iy9PL"
      }
    },
    {
      "cell_type": "markdown",
      "source": [
        "**Приведите по 2 примера, когда лучше максимизировать Precision, а когда Recall.**"
      ],
      "metadata": {
        "id": "jgrXPKynyeoi"
      }
    },
    {
      "cell_type": "markdown",
      "source": [
        "Метрику Precision важно максимизировать в тех  случаях  когда необходимо проверить точность предсказания на реальных данных, к примеру когда нарушен баланс классов к превосходству нецелевого класса (Кредитный скоринг или выявление предсказывание диагноза пациенту). Важным условием является скорее точность предсказанных неплательщиков из всех реальных  заемщиков или точность диагноза у пациентов.\n",
        "Метрику Recall скорее всего  нужно  максимизировать в том случае, когда целевой класс не очень важен и можно им пренебреч (Задача выявления спама) не важно попадет ли спам, а важно что бы реальные \"живые\" письма не попали в спамб тем самым полнота класса может быть важнее. "
      ],
      "metadata": {
        "id": "Cx6qGPepzWmk"
      }
    },
    {
      "cell_type": "markdown",
      "source": [
        "### Задание 2"
      ],
      "metadata": {
        "id": "6UVaDFTqzBsE"
      }
    },
    {
      "cell_type": "markdown",
      "source": [
        "**Почему мы используем F-меру, почему, например, нельзя просто взять среднее от Precision и Recall?**"
      ],
      "metadata": {
        "id": "oqZUjoA6zS_E"
      }
    },
    {
      "cell_type": "markdown",
      "source": [
        "F-меру мы используем для того, что бы можно было регулировать метрики Precision и Recall в зависимости от поставленной задачи. На примерах  приведенных  выше, как раз  такие случаи. F-мера более сбалансирована по отношению показателей метрик нежели просто средние арифметические метрик."
      ],
      "metadata": {
        "id": "dpUWCAbdzXXT"
      }
    },
    {
      "cell_type": "markdown",
      "source": [
        "# Урок 2"
      ],
      "metadata": {
        "id": "elcBG2n7iumC"
      }
    },
    {
      "cell_type": "markdown",
      "source": [
        "## Анализ данных и проверка статистических гипотез."
      ],
      "metadata": {
        "id": "VN1zfLeYi3jC"
      }
    },
    {
      "cell_type": "markdown",
      "source": [
        "### Задание 1"
      ],
      "metadata": {
        "id": "Bbzj7fcdjBxB"
      }
    },
    {
      "cell_type": "markdown",
      "source": [
        "**В чём различие между зависимыми и независимыми выборками?**"
      ],
      "metadata": {
        "id": "iWBx-BbYjLEx"
      }
    },
    {
      "cell_type": "markdown",
      "source": [
        "В зависымых выборках результаты одной группы, только в разное время до и после предполагаемого воздействия. В независимых наоборот результаты в разных  группах, причем группы могут быть отличны и по количеству."
      ],
      "metadata": {
        "id": "nJBfHusVjbQE"
      }
    },
    {
      "cell_type": "markdown",
      "source": [
        "### Задание 2"
      ],
      "metadata": {
        "id": "akWQ0ST2jCy5"
      }
    },
    {
      "cell_type": "markdown",
      "source": [
        "**Когда применяются параметрические статистические критерии, а когда — их непараметрические аналоги?**"
      ],
      "metadata": {
        "id": "FQGYEzQijMDa"
      }
    },
    {
      "cell_type": "markdown",
      "source": [
        "Параметрические статистические критерии используются чаще всего , когда распределение нормальное по отношению к интервальным шкалам. А если нормальность не определена и существует отличие от нормального распределения, то применяются более сложные расчеты с непараметрическими критериями."
      ],
      "metadata": {
        "id": "BG-Mew1xjedp"
      }
    },
    {
      "cell_type": "markdown",
      "source": [
        "# Урок 3"
      ],
      "metadata": {
        "id": "6BWOKG46_JZ1"
      }
    },
    {
      "cell_type": "markdown",
      "source": [
        "## Построение модели классификации."
      ],
      "metadata": {
        "id": "Ri7PIbI5_RFg"
      }
    },
    {
      "cell_type": "markdown",
      "source": [
        "### Задание 1"
      ],
      "metadata": {
        "id": "b5vowz01_k8H"
      }
    },
    {
      "cell_type": "markdown",
      "source": [
        "**Для чего и в каких случаях полезны различные варианты усреднения для метрик качества классификации: micro, macro, weighted?**"
      ],
      "metadata": {
        "id": "eTNhzEgF_thi"
      }
    },
    {
      "cell_type": "markdown",
      "source": [
        "### Задание 2"
      ],
      "metadata": {
        "id": "u1lz0hJy_nl4"
      }
    },
    {
      "cell_type": "markdown",
      "source": [
        "**В чём разница между моделями xgboost, lightgbm и catboost или какие их основные особенности?**"
      ],
      "metadata": {
        "id": "GhU0oz77_wl7"
      }
    }
  ]
}